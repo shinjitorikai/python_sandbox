{
 "cells": [
  {
   "cell_type": "markdown",
   "metadata": {},
   "source": [
    "### QRコード生成\n",
    "\n",
    "* venv : env_default"
   ]
  },
  {
   "cell_type": "code",
   "execution_count": 1,
   "metadata": {},
   "outputs": [],
   "source": [
    "import pyqrcode\n",
    "import os"
   ]
  },
  {
   "cell_type": "code",
   "execution_count": 2,
   "metadata": {},
   "outputs": [],
   "source": [
    "#pyqrcode.__version__ # この属性はないため、エラーとなる\n",
    "# ver1.2.1"
   ]
  },
  {
   "cell_type": "code",
   "execution_count": 3,
   "metadata": {},
   "outputs": [],
   "source": [
    "os.makedirs('./out',exist_ok=True)"
   ]
  },
  {
   "cell_type": "markdown",
   "metadata": {},
   "source": [
    "### Basic"
   ]
  },
  {
   "cell_type": "markdown",
   "metadata": {},
   "source": [
    "* error : 誤り訂正レベル\n",
    "  * L : 7%\n",
    "  * M : 15%\n",
    "  * Q : 25%\n",
    "  * H : 30%(default)\n",
    "* version : コードのサイズとデータ容量\n",
    "  * 1〜40 : (1が最小、40が最大、デフォルトはデータと誤り訂正レベルから最小のversionが選ばれる。verisonを指定すると、複数のコードで一貫性を持たせることができる。)\n",
    "* encode : コンテンツのエンコード方法\n",
    "  * 'numeric' : 数字\n",
    "  * 'kanji' : 漢字\n",
    "  * 'binary' : バイナリ\n",
    "  * 'alphanumeric' : 英数字(使えない)"
   ]
  },
  {
   "cell_type": "code",
   "execution_count": 4,
   "metadata": {},
   "outputs": [],
   "source": [
    "qrcode = pyqrcode.create(\n",
    "    content=\"test\",\n",
    "    error='H')\n",
    "\n",
    "qrcode.svg(file='./out/test.svg',scale=6)\n",
    "qrcode.eps(file='./out/test.eps',scale=6)\n",
    "qrcode.png(file='./out/test.png',scale=6) # pypng のインストールが必要"
   ]
  },
  {
   "cell_type": "markdown",
   "metadata": {},
   "source": [
    "* 最大容量\n",
    "  * 数字：7089桁\n",
    "  * 英数字：4296桁\n",
    "  * バイナリ：2953桁\n",
    "  * 漢字：1817桁"
   ]
  },
  {
   "cell_type": "code",
   "execution_count": 5,
   "metadata": {},
   "outputs": [
    {
     "data": {
      "text/plain": [
       "2953"
      ]
     },
     "execution_count": 5,
     "metadata": {},
     "output_type": "execute_result"
    }
   ],
   "source": [
    "testdata = ''\n",
    "for i in range(2953):\n",
    "    testdata += 'a'\n",
    "len(testdata)"
   ]
  },
  {
   "cell_type": "code",
   "execution_count": 6,
   "metadata": {},
   "outputs": [],
   "source": [
    "qrcode = pyqrcode.create(\n",
    "    content=testdata,\n",
    "    error='L')\n",
    "\n",
    "qrcode.png(file='./out/test_max.png',scale=6) # pypng のインストールが必要"
   ]
  }
 ],
 "metadata": {
  "kernelspec": {
   "display_name": "env_default",
   "language": "python",
   "name": "python3"
  },
  "language_info": {
   "codemirror_mode": {
    "name": "ipython",
    "version": 3
   },
   "file_extension": ".py",
   "mimetype": "text/x-python",
   "name": "python",
   "nbconvert_exporter": "python",
   "pygments_lexer": "ipython3",
   "version": "3.8.10"
  },
  "orig_nbformat": 4
 },
 "nbformat": 4,
 "nbformat_minor": 2
}
