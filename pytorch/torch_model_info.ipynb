{
 "cells": [
  {
   "cell_type": "markdown",
   "metadata": {},
   "source": [
    "* venv : torch2_0"
   ]
  },
  {
   "cell_type": "code",
   "execution_count": 1,
   "metadata": {},
   "outputs": [],
   "source": [
    "import torch\n",
    "import torch.nn.functional as F\n",
    "import torchinfo\n",
    "\n",
    "import os"
   ]
  },
  {
   "cell_type": "code",
   "execution_count": 2,
   "metadata": {},
   "outputs": [],
   "source": [
    "class SampleModel(torch.nn.Module):\n",
    "    def __init__(self):\n",
    "        super().__init__()\n",
    "        self.conv1 = torch.nn.Conv2d(in_channels=3,out_channels=16,kernel_size=3)\n",
    "        self.relu = torch.nn.ReLU()\n",
    "        self.pool = torch.nn.MaxPool2d(kernel_size=2)\n",
    "        self.fc1 = torch.nn.Linear(in_features=3600, out_features=256)\n",
    "        self.fc2 = torch.nn.Linear(in_features=256, out_features=10)\n",
    "\n",
    "    def forward(self, x):\n",
    "        x = self.conv1(x)\n",
    "        x = self.relu(x)\n",
    "        x = self.pool(x)\n",
    "        x = x.view(x.size()[0], -1) # flatten\n",
    "        x = self.fc1(x)\n",
    "        x = self.fc2(x)\n",
    "        return x\n",
    "\n",
    "model = SampleModel()"
   ]
  },
  {
   "cell_type": "code",
   "execution_count": 3,
   "metadata": {},
   "outputs": [
    {
     "data": {
      "text/plain": [
       "924874"
      ]
     },
     "execution_count": 3,
     "metadata": {},
     "output_type": "execute_result"
    }
   ],
   "source": [
    "# 学習可能なパラメーター(requires_grad=Trueのものの数)\n",
    "def count_trainable_parameters(model):\n",
    "    return sum(param.numel() for param in model.parameters() if param.requires_grad)\n",
    "\n",
    "count_trainable_parameters(model=model)"
   ]
  },
  {
   "cell_type": "code",
   "execution_count": 4,
   "metadata": {},
   "outputs": [
    {
     "data": {
      "text/plain": [
       "==========================================================================================\n",
       "Layer (type:depth-idx)                   Output Shape              Param #\n",
       "==========================================================================================\n",
       "SampleModel                              [1, 10]                   --\n",
       "├─Conv2d: 1-1                            [1, 16, 30, 30]           448\n",
       "├─ReLU: 1-2                              [1, 16, 30, 30]           --\n",
       "├─MaxPool2d: 1-3                         [1, 16, 15, 15]           --\n",
       "├─Linear: 1-4                            [1, 256]                  921,856\n",
       "├─Linear: 1-5                            [1, 10]                   2,570\n",
       "==========================================================================================\n",
       "Total params: 924,874\n",
       "Trainable params: 924,874\n",
       "Non-trainable params: 0\n",
       "Total mult-adds (M): 1.33\n",
       "==========================================================================================\n",
       "Input size (MB): 0.01\n",
       "Forward/backward pass size (MB): 0.12\n",
       "Params size (MB): 3.70\n",
       "Estimated Total Size (MB): 3.83\n",
       "=========================================================================================="
      ]
     },
     "execution_count": 4,
     "metadata": {},
     "output_type": "execute_result"
    }
   ],
   "source": [
    "# モデルサマリーの表示(torchinfo使用)\n",
    "#  - 注意：deviceを指定しないとmodelがcuda:0に移動してしまう(指定すればよいかは未確認)\n",
    "torchinfo.summary(model=model,input_size=(1,3,32,32))"
   ]
  },
  {
   "cell_type": "code",
   "execution_count": 5,
   "metadata": {},
   "outputs": [],
   "source": [
    "# 上記をファイルに保存\n",
    "output_path = './output/model_summary.txt'\n",
    "os.makedirs(os.path.dirname(output_path),exist_ok=True)\n",
    "\n",
    "with open(output_path,mode='w') as fw:\n",
    "    fw.write(repr(torchinfo.summary(model,(1,3,32,32))))"
   ]
  }
 ],
 "metadata": {
  "kernelspec": {
   "display_name": "torch2_0",
   "language": "python",
   "name": "python3"
  },
  "language_info": {
   "codemirror_mode": {
    "name": "ipython",
    "version": 3
   },
   "file_extension": ".py",
   "mimetype": "text/x-python",
   "name": "python",
   "nbconvert_exporter": "python",
   "pygments_lexer": "ipython3",
   "version": "3.9.16"
  },
  "orig_nbformat": 4
 },
 "nbformat": 4,
 "nbformat_minor": 2
}
