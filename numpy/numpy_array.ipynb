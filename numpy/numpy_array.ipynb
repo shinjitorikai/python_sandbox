{
 "cells": [
  {
   "cell_type": "code",
   "execution_count": 1,
   "metadata": {},
   "outputs": [],
   "source": [
    "import numpy as np"
   ]
  },
  {
   "cell_type": "code",
   "execution_count": 2,
   "metadata": {},
   "outputs": [
    {
     "name": "stdout",
     "output_type": "stream",
     "text": [
      "before\n",
      "[1.    2.3   4.567]\n",
      "float64\n",
      "after\n",
      "[1 2 4]\n",
      "uint8\n"
     ]
    }
   ],
   "source": [
    "# 型変換\n",
    "a = np.array([1.0,2.3,4.567])\n",
    "print('before')\n",
    "print(a)\n",
    "print(a.dtype)\n",
    "b = a.astype(np.uint8)\n",
    "print('after')\n",
    "print(b)\n",
    "print(b.dtype)"
   ]
  },
  {
   "cell_type": "code",
   "execution_count": 3,
   "metadata": {},
   "outputs": [
    {
     "data": {
      "text/plain": [
       "array([ 8,  8,  9, 10])"
      ]
     },
     "execution_count": 3,
     "metadata": {},
     "output_type": "execute_result"
    }
   ],
   "source": [
    "# トップ4こを求める\n",
    "a = np.array([6,4,1,8,7,3,2,9,8,10,2,3])\n",
    "b = np.sort(a)\n",
    "b[-4:] # np.mean([-4:]) のようにすれば平均を求められる"
   ]
  }
 ],
 "metadata": {
  "kernelspec": {
   "display_name": "Python 3.8.10 ('env_default')",
   "language": "python",
   "name": "python3"
  },
  "language_info": {
   "codemirror_mode": {
    "name": "ipython",
    "version": 3
   },
   "file_extension": ".py",
   "mimetype": "text/x-python",
   "name": "python",
   "nbconvert_exporter": "python",
   "pygments_lexer": "ipython3",
   "version": "3.8.10"
  },
  "orig_nbformat": 4,
  "vscode": {
   "interpreter": {
    "hash": "b2505095816e3105de927bd853ba3a0e16751970eef2a84828f7d6555620f789"
   }
  }
 },
 "nbformat": 4,
 "nbformat_minor": 2
}
