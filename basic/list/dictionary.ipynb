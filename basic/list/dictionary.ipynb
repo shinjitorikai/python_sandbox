{
 "cells": [
  {
   "cell_type": "markdown",
   "source": [
    "# Dictionary"
   ],
   "metadata": {}
  },
  {
   "cell_type": "code",
   "execution_count": 1,
   "source": [
    "# 新規作成\r\n",
    "a = {'Apple':100,'Orange':200,'Peach':300}\r\n",
    "a"
   ],
   "outputs": [
    {
     "output_type": "execute_result",
     "data": {
      "text/plain": [
       "{'Apple': 100, 'Orange': 200, 'Peach': 300}"
      ]
     },
     "metadata": {},
     "execution_count": 1
    }
   ],
   "metadata": {}
  },
  {
   "cell_type": "code",
   "execution_count": 3,
   "source": [
    "# 存在確認\r\n",
    "print('Apple in a : ','Apple' in a)\r\n",
    "print('Lemon in a : ','Lemon' in a)"
   ],
   "outputs": [
    {
     "output_type": "stream",
     "name": "stdout",
     "text": [
      "Apple in a :  True\n",
      "Lemon in a :  False\n"
     ]
    }
   ],
   "metadata": {}
  }
 ],
 "metadata": {
  "orig_nbformat": 4,
  "language_info": {
   "name": "python",
   "version": "3.8.5",
   "mimetype": "text/x-python",
   "codemirror_mode": {
    "name": "ipython",
    "version": 3
   },
   "pygments_lexer": "ipython3",
   "nbconvert_exporter": "python",
   "file_extension": ".py"
  },
  "kernelspec": {
   "name": "python3",
   "display_name": "Python 3.8.5 64-bit ('venv_default': venv)"
  },
  "interpreter": {
   "hash": "fd0758a73ebd988ebe9ebf034d1cd9f2f8ab90884b3576b81c88c68ea1671a5f"
  }
 },
 "nbformat": 4,
 "nbformat_minor": 2
}