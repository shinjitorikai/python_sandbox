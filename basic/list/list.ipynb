{
 "cells": [
  {
   "cell_type": "markdown",
   "source": [
    "# List"
   ],
   "metadata": {}
  },
  {
   "cell_type": "code",
   "execution_count": 2,
   "source": [
    "# 新規作成\r\n",
    "a = []\r\n",
    "a"
   ],
   "outputs": [
    {
     "output_type": "execute_result",
     "data": {
      "text/plain": [
       "[]"
      ]
     },
     "metadata": {},
     "execution_count": 2
    }
   ],
   "metadata": {}
  },
  {
   "cell_type": "code",
   "execution_count": 3,
   "source": [
    "# 要素の追加\r\n",
    "a.append(123)\r\n",
    "a.append(456)\r\n",
    "a"
   ],
   "outputs": [
    {
     "output_type": "execute_result",
     "data": {
      "text/plain": [
       "[123, 456]"
      ]
     },
     "metadata": {},
     "execution_count": 3
    }
   ],
   "metadata": {}
  },
  {
   "cell_type": "code",
   "execution_count": 6,
   "source": [
    "# 存在確認\r\n",
    "b = [1,2,3]\r\n",
    "print('1 in b : ',1 in b)\r\n",
    "print('4 in b : ',4 in b)"
   ],
   "outputs": [
    {
     "output_type": "stream",
     "name": "stdout",
     "text": [
      "1 in b :  True\n",
      "4 in b :  False\n"
     ]
    }
   ],
   "metadata": {}
  }
 ],
 "metadata": {
  "orig_nbformat": 4,
  "language_info": {
   "name": "python",
   "version": "3.8.5",
   "mimetype": "text/x-python",
   "codemirror_mode": {
    "name": "ipython",
    "version": 3
   },
   "pygments_lexer": "ipython3",
   "nbconvert_exporter": "python",
   "file_extension": ".py"
  },
  "kernelspec": {
   "name": "python3",
   "display_name": "Python 3.8.5 64-bit ('venv_default': venv)"
  },
  "interpreter": {
   "hash": "fd0758a73ebd988ebe9ebf034d1cd9f2f8ab90884b3576b81c88c68ea1671a5f"
  }
 },
 "nbformat": 4,
 "nbformat_minor": 2
}