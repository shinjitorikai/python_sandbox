{
 "cells": [
  {
   "cell_type": "markdown",
   "metadata": {},
   "source": [
    "### List"
   ]
  },
  {
   "cell_type": "markdown",
   "metadata": {},
   "source": [
    "#### 作成"
   ]
  },
  {
   "cell_type": "code",
   "execution_count": 2,
   "metadata": {},
   "outputs": [
    {
     "data": {
      "text/plain": [
       "[]"
      ]
     },
     "execution_count": 2,
     "metadata": {},
     "output_type": "execute_result"
    }
   ],
   "source": [
    "# 新規作成\n",
    "a = []\n",
    "a"
   ]
  },
  {
   "cell_type": "code",
   "execution_count": 1,
   "metadata": {},
   "outputs": [
    {
     "data": {
      "text/plain": [
       "[0, 0, 0]"
      ]
     },
     "execution_count": 1,
     "metadata": {},
     "output_type": "execute_result"
    }
   ],
   "source": [
    "# 新規作成(指定した要素)\n",
    "a1 = [0]*3\n",
    "a1"
   ]
  },
  {
   "cell_type": "markdown",
   "metadata": {},
   "source": [
    "#### 操作の基礎"
   ]
  },
  {
   "cell_type": "code",
   "execution_count": 1,
   "metadata": {},
   "outputs": [
    {
     "name": "stdout",
     "output_type": "stream",
     "text": [
      "listdata =  [1, 2, 3, 4, 5]\n",
      " - type =  <class 'list'>\n",
      " - length =  5\n",
      " - 要素アクセス a[0] =  1\n",
      " - スライシング a[0:2] =  [1, 2]\n",
      " - スライシング a[2:] =  [3, 4, 5]\n",
      " - スライシング a[:2] =  [1, 2]\n",
      " - スライシング a[:-1] =  [1, 2, 3, 4]\n",
      " - スライシング a[:-2] =  [1, 2, 3]\n"
     ]
    }
   ],
   "source": [
    "listdata = [1,2,3,4,5]\n",
    "print('listdata = ', listdata)\n",
    "print(' - type = ', type(listdata))\n",
    "print(' - length = ', len(listdata))\n",
    "print(' - 要素アクセス a[0] = ', listdata[0])\n",
    "print(' - スライシング a[0:2] = ', listdata[0:2]) # 0番目から2番目まで(2番目は含まない)\n",
    "print(' - スライシング a[2:] = ', listdata[2:]) # 2番目以降\n",
    "print(' - スライシング a[:2] = ', listdata[:2]) # 2番目まで(2番目は含まない)\n",
    "print(' - スライシング a[:-1] = ', listdata[:-1]) # 最後から1つ前まで(最後から1つ前は含まない)\n",
    "print(' - スライシング a[:-2] = ', listdata[:-2]) # 最後から2つ前まで(最後から2つ前は含まない)\n"
   ]
  },
  {
   "cell_type": "markdown",
   "metadata": {},
   "source": [
    "#### 要素の追加"
   ]
  },
  {
   "cell_type": "code",
   "execution_count": 3,
   "metadata": {},
   "outputs": [
    {
     "data": {
      "text/plain": [
       "[123, 456]"
      ]
     },
     "execution_count": 3,
     "metadata": {},
     "output_type": "execute_result"
    }
   ],
   "source": [
    "# 要素の追加\n",
    "a.append(123)\n",
    "a.append(456)\n",
    "a\n",
    "\n",
    "# 補足\n",
    "# forループ等で繰り返す場合は遅いので、インデックスアクセスのほうがよい"
   ]
  },
  {
   "cell_type": "markdown",
   "metadata": {},
   "source": [
    "#### 存在確認"
   ]
  },
  {
   "cell_type": "code",
   "execution_count": 6,
   "metadata": {},
   "outputs": [
    {
     "name": "stdout",
     "output_type": "stream",
     "text": [
      "1 in b :  True\n",
      "4 in b :  False\n"
     ]
    }
   ],
   "source": [
    "# 存在確認\n",
    "b = [1,2,3]\n",
    "print('1 in b : ',1 in b)\n",
    "print('4 in b : ',4 in b)"
   ]
  },
  {
   "cell_type": "markdown",
   "metadata": {},
   "source": [
    "#### 最大/最小"
   ]
  },
  {
   "cell_type": "code",
   "execution_count": 2,
   "metadata": {},
   "outputs": [
    {
     "name": "stdout",
     "output_type": "stream",
     "text": [
      "max :  9\n",
      "min :  1\n"
     ]
    }
   ],
   "source": [
    "# 最大値/最小値\n",
    "tmp = [4,1,2,8,5,9,3]\n",
    "print('max : ',max(tmp))\n",
    "print('min : ',min(tmp))"
   ]
  },
  {
   "cell_type": "code",
   "execution_count": 3,
   "metadata": {},
   "outputs": [
    {
     "name": "stdout",
     "output_type": "stream",
     "text": [
      "max(index) :  5\n",
      "min(index) :  1\n"
     ]
    }
   ],
   "source": [
    "# 最大値/最小値のインデックス\n",
    "print('max(index) : ',tmp.index(max(tmp)))\n",
    "print('min(index) : ',tmp.index(min(tmp)))"
   ]
  },
  {
   "cell_type": "markdown",
   "metadata": {},
   "source": [
    "#### 内包表記"
   ]
  },
  {
   "cell_type": "code",
   "execution_count": 2,
   "metadata": {},
   "outputs": [
    {
     "data": {
      "text/plain": [
       "[0, 2, 4]"
      ]
     },
     "execution_count": 2,
     "metadata": {},
     "output_type": "execute_result"
    }
   ],
   "source": [
    "# リスト内包表記(list)\n",
    "tmp1 = [i*2 for i in range(3)]\n",
    "tmp1"
   ]
  },
  {
   "cell_type": "code",
   "execution_count": 4,
   "metadata": {},
   "outputs": [
    {
     "data": {
      "text/plain": [
       "[0, 2, 4, 6, 8]"
      ]
     },
     "execution_count": 4,
     "metadata": {},
     "output_type": "execute_result"
    }
   ],
   "source": [
    "# リスト内包表記(条件付き)\n",
    "tmp2 = [i for i in range(10) if i%2==0]\n",
    "tmp2"
   ]
  },
  {
   "cell_type": "code",
   "execution_count": 6,
   "metadata": {},
   "outputs": [
    {
     "data": {
      "text/plain": [
       "['even', 'odd', 'even', 'odd', 'even']"
      ]
     },
     "execution_count": 6,
     "metadata": {},
     "output_type": "execute_result"
    }
   ],
   "source": [
    "# リスト内包表記(if/elseあり)\n",
    "tmp3 = ['even' if i%2==0 else 'odd' for i in range(5)]\n",
    "tmp3"
   ]
  }
 ],
 "metadata": {
  "kernelspec": {
   "display_name": "Python 3.8.10 ('env_default')",
   "language": "python",
   "name": "python3"
  },
  "language_info": {
   "codemirror_mode": {
    "name": "ipython",
    "version": 3
   },
   "file_extension": ".py",
   "mimetype": "text/x-python",
   "name": "python",
   "nbconvert_exporter": "python",
   "pygments_lexer": "ipython3",
   "version": "3.8.10"
  },
  "orig_nbformat": 4,
  "vscode": {
   "interpreter": {
    "hash": "b2505095816e3105de927bd853ba3a0e16751970eef2a84828f7d6555620f789"
   }
  }
 },
 "nbformat": 4,
 "nbformat_minor": 2
}
