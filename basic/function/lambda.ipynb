{
 "cells": [
  {
   "cell_type": "markdown",
   "source": [
    "# Lambda"
   ],
   "metadata": {}
  },
  {
   "cell_type": "code",
   "execution_count": 1,
   "source": [
    "def pow(a):\r\n",
    "    return a*a"
   ],
   "outputs": [],
   "metadata": {}
  },
  {
   "cell_type": "code",
   "execution_count": 2,
   "source": [
    "pow_lambda = lambda a : a*a\r\n",
    "\r\n",
    "pow_lambda(2)"
   ],
   "outputs": [
    {
     "output_type": "execute_result",
     "data": {
      "text/plain": [
       "4"
      ]
     },
     "metadata": {},
     "execution_count": 2
    }
   ],
   "metadata": {}
  }
 ],
 "metadata": {
  "orig_nbformat": 4,
  "language_info": {
   "name": "python",
   "version": "3.8.5",
   "mimetype": "text/x-python",
   "codemirror_mode": {
    "name": "ipython",
    "version": 3
   },
   "pygments_lexer": "ipython3",
   "nbconvert_exporter": "python",
   "file_extension": ".py"
  },
  "kernelspec": {
   "name": "python3",
   "display_name": "Python 3.8.5 64-bit ('venv_default': venv)"
  },
  "interpreter": {
   "hash": "fd0758a73ebd988ebe9ebf034d1cd9f2f8ab90884b3576b81c88c68ea1671a5f"
  }
 },
 "nbformat": 4,
 "nbformat_minor": 2
}