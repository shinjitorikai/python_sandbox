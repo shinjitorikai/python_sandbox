{
 "cells": [
  {
   "cell_type": "markdown",
   "source": [
    "# Function"
   ],
   "metadata": {}
  },
  {
   "cell_type": "code",
   "execution_count": 1,
   "source": [
    "# 関数(戻り値なし、引数なし)\r\n",
    "def func1():\r\n",
    "    \"\"\"\r\n",
    "    関数の説明\r\n",
    "    \"\"\"\r\n",
    "    print('func1()')\r\n",
    "\r\n",
    "func1()"
   ],
   "outputs": [
    {
     "output_type": "stream",
     "name": "stdout",
     "text": [
      "func1()\n"
     ]
    }
   ],
   "metadata": {}
  },
  {
   "cell_type": "code",
   "execution_count": 2,
   "source": [
    "def func2(a:int) -> int:\r\n",
    "    \"\"\"\r\n",
    "    関数2の説明\r\n",
    "    Args:\r\n",
    "        a(int) : aの説明\r\n",
    "    Returns:\r\n",
    "        int : 戻り値の説明\r\n",
    "    \"\"\"\r\n",
    "    print('func2()')\r\n",
    "    return(12)\r\n",
    "\r\n",
    "func2(1)"
   ],
   "outputs": [
    {
     "output_type": "stream",
     "name": "stdout",
     "text": [
      "func2()\n"
     ]
    },
    {
     "output_type": "execute_result",
     "data": {
      "text/plain": [
       "12"
      ]
     },
     "metadata": {},
     "execution_count": 2
    }
   ],
   "metadata": {}
  }
 ],
 "metadata": {
  "orig_nbformat": 4,
  "language_info": {
   "name": "python",
   "version": "3.8.5",
   "mimetype": "text/x-python",
   "codemirror_mode": {
    "name": "ipython",
    "version": 3
   },
   "pygments_lexer": "ipython3",
   "nbconvert_exporter": "python",
   "file_extension": ".py"
  },
  "kernelspec": {
   "name": "python3",
   "display_name": "Python 3.8.5 64-bit ('venv_default': venv)"
  },
  "interpreter": {
   "hash": "fd0758a73ebd988ebe9ebf034d1cd9f2f8ab90884b3576b81c88c68ea1671a5f"
  }
 },
 "nbformat": 4,
 "nbformat_minor": 2
}