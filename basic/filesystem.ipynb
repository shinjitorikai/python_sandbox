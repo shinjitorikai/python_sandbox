{
 "cells": [
  {
   "cell_type": "code",
   "execution_count": 1,
   "metadata": {},
   "outputs": [],
   "source": [
    "import os"
   ]
  },
  {
   "cell_type": "markdown",
   "metadata": {},
   "source": [
    "### os"
   ]
  },
  {
   "cell_type": "code",
   "execution_count": 2,
   "metadata": {},
   "outputs": [
    {
     "data": {
      "text/plain": [
       "['number_range.py',\n",
       " 'import.py',\n",
       " 'flow.py',\n",
       " 'textfile.py',\n",
       " 'function',\n",
       " 'stopwatch.py',\n",
       " 'basic.py',\n",
       " 'filesystem.ipynb',\n",
       " 'print.py',\n",
       " 'list',\n",
       " 'class',\n",
       " 'date_time.py',\n",
       " 'constant.py']"
      ]
     },
     "execution_count": 2,
     "metadata": {},
     "output_type": "execute_result"
    }
   ],
   "source": [
    "# ファイル/ディレクトリ一覧\n",
    "tmp_list = os.listdir(path='./')\n",
    "tmp_list"
   ]
  },
  {
   "cell_type": "code",
   "execution_count": 3,
   "metadata": {},
   "outputs": [
    {
     "data": {
      "text/plain": [
       "['number_range.py',\n",
       " 'import.py',\n",
       " 'flow.py',\n",
       " 'textfile.py',\n",
       " 'stopwatch.py',\n",
       " 'basic.py',\n",
       " 'filesystem.ipynb',\n",
       " 'print.py',\n",
       " 'date_time.py',\n",
       " 'constant.py']"
      ]
     },
     "execution_count": 3,
     "metadata": {},
     "output_type": "execute_result"
    }
   ],
   "source": [
    "# ファイルのみ\n",
    "tmp_file_list = [s for s in tmp_list if os.path.isfile(os.path.join('./',s))]\n",
    "tmp_file_list"
   ]
  },
  {
   "cell_type": "code",
   "execution_count": 4,
   "metadata": {},
   "outputs": [
    {
     "data": {
      "text/plain": [
       "['function', 'list', 'class']"
      ]
     },
     "execution_count": 4,
     "metadata": {},
     "output_type": "execute_result"
    }
   ],
   "source": [
    "# ディレクトリのみ\n",
    "tmp_dir_list = [s for s in tmp_list if os.path.isdir(os.path.join('./',s))]\n",
    "tmp_dir_list"
   ]
  },
  {
   "cell_type": "markdown",
   "metadata": {},
   "source": [
    "### pathlib"
   ]
  },
  {
   "cell_type": "code",
   "execution_count": 5,
   "metadata": {},
   "outputs": [],
   "source": [
    "from pathlib import Path"
   ]
  },
  {
   "cell_type": "code",
   "execution_count": 6,
   "metadata": {},
   "outputs": [
    {
     "name": "stdout",
     "output_type": "stream",
     "text": [
      "pt :  .\n",
      " - type :  <class 'pathlib.PosixPath'>\n",
      " - to string :  .\n",
      " - to string :  .\n"
     ]
    }
   ],
   "source": [
    "TARGET_DIR = r'./'\n",
    "\n",
    "pt = Path(TARGET_DIR)\n",
    "print('pt : ',pt)\n",
    "print(' - type : ',type(pt))\n",
    "print(' - to string : ',pt.as_posix())\n",
    "print(' - to string : ',str(pt))\n"
   ]
  },
  {
   "cell_type": "code",
   "execution_count": 7,
   "metadata": {},
   "outputs": [
    {
     "name": "stdout",
     "output_type": "stream",
     "text": [
      "number_range.py\n",
      "import.py\n",
      "flow.py\n",
      "textfile.py\n",
      "function\n",
      "stopwatch.py\n",
      "basic.py\n",
      "filesystem.ipynb\n",
      "print.py\n",
      "list\n",
      "class\n",
      "date_time.py\n",
      "constant.py\n"
     ]
    }
   ],
   "source": [
    "# ターゲットディレクトリの、ファイルおよびフォルダを取得\n",
    "#print(list(pt.glob('*'))) # list化して表示\n",
    "for f in pt.glob('*'):\n",
    "    print(f)"
   ]
  },
  {
   "cell_type": "code",
   "execution_count": 8,
   "metadata": {},
   "outputs": [
    {
     "name": "stdout",
     "output_type": "stream",
     "text": [
      "/// 検索条件あり ///\n",
      "number_range.py\n",
      "import.py\n",
      "flow.py\n",
      "textfile.py\n",
      "stopwatch.py\n",
      "basic.py\n",
      "print.py\n",
      "date_time.py\n",
      "constant.py\n"
     ]
    }
   ],
   "source": [
    "print('/// 検索条件あり ///')\n",
    "for f in pt.glob('*.py'): # 条件あり\n",
    "    print(f)"
   ]
  },
  {
   "cell_type": "code",
   "execution_count": 9,
   "metadata": {},
   "outputs": [
    {
     "name": "stdout",
     "output_type": "stream",
     "text": [
      "/// サブディレクトリも含む ///\n",
      "number_range.py\n",
      "import.py\n",
      "flow.py\n",
      "textfile.py\n",
      "function\n",
      "stopwatch.py\n",
      "basic.py\n",
      "filesystem.ipynb\n",
      "print.py\n",
      "list\n",
      "class\n",
      "date_time.py\n",
      "constant.py\n",
      "function/function.ipynb\n",
      "function/lambda.ipynb\n",
      "function/generator.ipynb\n",
      "list/tuple.ipynb\n",
      "list/set.ipynb\n",
      "list/list.ipynb\n",
      "list/dictionary.ipynb\n",
      "class/decorator.ipynb\n",
      "class/class.ipynb\n"
     ]
    }
   ],
   "source": [
    "print('/// サブディレクトリも含む ///')\n",
    "for f in pt.glob('**/*'): # サブディレクトリも含む\n",
    "    print(f)"
   ]
  }
 ],
 "metadata": {
  "kernelspec": {
   "display_name": "Python 3.8.10 ('env_default')",
   "language": "python",
   "name": "python3"
  },
  "language_info": {
   "codemirror_mode": {
    "name": "ipython",
    "version": 3
   },
   "file_extension": ".py",
   "mimetype": "text/x-python",
   "name": "python",
   "nbconvert_exporter": "python",
   "pygments_lexer": "ipython3",
   "version": "3.8.10"
  },
  "orig_nbformat": 4,
  "vscode": {
   "interpreter": {
    "hash": "b2505095816e3105de927bd853ba3a0e16751970eef2a84828f7d6555620f789"
   }
  }
 },
 "nbformat": 4,
 "nbformat_minor": 2
}
