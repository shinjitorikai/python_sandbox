{
 "cells": [
  {
   "cell_type": "markdown",
   "source": [
    "# Class"
   ],
   "metadata": {}
  },
  {
   "cell_type": "code",
   "execution_count": 1,
   "source": [
    "class AAA:\r\n",
    "    def __init__(self): # コンストラクタ\r\n",
    "        print('AAA Constructor')\r\n",
    "\r\n",
    "    def method1(self):\r\n",
    "        print('AAA.method1()')\r\n",
    "\r\n",
    "    def method2(self,a,b):\r\n",
    "        print('method2 - arg1 : ' + str(a) + ', arg2 : ' + str(b))\r\n",
    "    \r\n",
    "    def method3(self,a,b):\r\n",
    "        return a+b\r\n",
    "\r\n",
    "a = AAA() # インスタンス生成\r\n",
    "a.method1()\r\n",
    "a.method2(1,2)\r\n",
    "a.method3(2,3)"
   ],
   "outputs": [
    {
     "output_type": "stream",
     "name": "stdout",
     "text": [
      "AAA Constructor\n",
      "AAA.method1()\n",
      "method2 - arg1 : 1, arg2 : 2\n"
     ]
    },
    {
     "output_type": "execute_result",
     "data": {
      "text/plain": [
       "5"
      ]
     },
     "metadata": {},
     "execution_count": 1
    }
   ],
   "metadata": {}
  },
  {
   "cell_type": "code",
   "execution_count": 2,
   "source": [
    "# instance/class variable\r\n",
    "class SampleClass_WithVariable:\r\n",
    "  classvar_x = 0\r\n",
    "  def __init__(self, x):\r\n",
    "    self.x = x\r\n",
    "    SampleClass_WithVariable.classvar_x += 1\r\n",
    "    \r\n",
    "  def printInstanceVar(self):\r\n",
    "    print('instance variable : ' + str(self.x))\r\n",
    "  \r\n",
    "  def printClassVar(self):\r\n",
    "    print('class variable : ' + str(SampleClass_WithVariable.classvar_x))\r\n",
    "\r\n",
    "sampleClassWithVariable1 = SampleClass_WithVariable(3)\r\n",
    "sampleClassWithVariable1.printInstanceVar()\r\n",
    "sampleClassWithVariable1.printClassVar()\r\n",
    "\r\n",
    "sampleClassWithVariable2 = SampleClass_WithVariable(5)\r\n",
    "sampleClassWithVariable2.printInstanceVar()\r\n",
    "sampleClassWithVariable2.printClassVar()"
   ],
   "outputs": [
    {
     "output_type": "stream",
     "name": "stdout",
     "text": [
      "instance variable : 3\n",
      "class variable : 1\n",
      "instance variable : 5\n",
      "class variable : 2\n"
     ]
    }
   ],
   "metadata": {}
  },
  {
   "cell_type": "code",
   "execution_count": 3,
   "source": [
    "# inheritance\r\n",
    "class BaseClass():\r\n",
    "  def __init__(self):\r\n",
    "    print('base class constructor')\r\n",
    "\r\n",
    "class SubClass(BaseClass):\r\n",
    "  def __init__(self):\r\n",
    "    super().__init__()\r\n",
    "    print('sub class constructor')\r\n",
    "\r\n",
    "subClass = SubClass()"
   ],
   "outputs": [
    {
     "output_type": "stream",
     "name": "stdout",
     "text": [
      "base class constructor\n",
      "sub class constructor\n"
     ]
    }
   ],
   "metadata": {}
  },
  {
   "cell_type": "code",
   "execution_count": 9,
   "source": [
    "# デコレーターを使用したプロパティ定義\r\n",
    "class MyFigure:\r\n",
    "    def __init__(self,name,size) -> None:\r\n",
    "        self.__name = name\r\n",
    "        self.__size = size\r\n",
    "    \r\n",
    "    @property # プロパティ(getter) : これのみだと読み取り専用\r\n",
    "    def name(self):\r\n",
    "        return self.__name\r\n",
    "\r\n",
    "    @property\r\n",
    "    def size(self):\r\n",
    "        return self.__size\r\n",
    "    \r\n",
    "    @size.setter # setter\r\n",
    "    def size(self,sz):\r\n",
    "        self.__size = sz\r\n",
    "\r\n",
    "f = MyFigure('fig1',10)\r\n",
    "print(f.name)\r\n",
    "print(f.size)\r\n",
    "f.size = 20\r\n",
    "print(f.size)"
   ],
   "outputs": [
    {
     "output_type": "stream",
     "name": "stdout",
     "text": [
      "fig1\n",
      "10\n",
      "20\n"
     ]
    }
   ],
   "metadata": {}
  }
 ],
 "metadata": {
  "orig_nbformat": 4,
  "language_info": {
   "name": "python",
   "version": "3.8.5",
   "mimetype": "text/x-python",
   "codemirror_mode": {
    "name": "ipython",
    "version": 3
   },
   "pygments_lexer": "ipython3",
   "nbconvert_exporter": "python",
   "file_extension": ".py"
  },
  "kernelspec": {
   "name": "python3",
   "display_name": "Python 3.8.5 64-bit ('venv_default': venv)"
  },
  "interpreter": {
   "hash": "fd0758a73ebd988ebe9ebf034d1cd9f2f8ab90884b3576b81c88c68ea1671a5f"
  }
 },
 "nbformat": 4,
 "nbformat_minor": 2
}