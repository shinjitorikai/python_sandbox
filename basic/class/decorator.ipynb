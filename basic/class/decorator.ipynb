{
 "cells": [
  {
   "cell_type": "markdown",
   "source": [
    "# Decorator"
   ],
   "metadata": {}
  },
  {
   "cell_type": "code",
   "execution_count": 1,
   "source": [
    "# デコレーター定義\r\n",
    "def deco(func):\r\n",
    "    def wrapper(*args,**kwargs):\r\n",
    "        print('/////')\r\n",
    "        func(*args,**kwargs)\r\n",
    "        print('-----')\r\n",
    "    return wrapper\r\n",
    "\r\n",
    "@deco\r\n",
    "def test():\r\n",
    "    print('Test')\r\n",
    "\r\n",
    "test()"
   ],
   "outputs": [
    {
     "output_type": "stream",
     "name": "stdout",
     "text": [
      "/////\n",
      "Test\n",
      "-----\n"
     ]
    }
   ],
   "metadata": {}
  }
 ],
 "metadata": {
  "orig_nbformat": 4,
  "language_info": {
   "name": "python",
   "version": "3.8.5",
   "mimetype": "text/x-python",
   "codemirror_mode": {
    "name": "ipython",
    "version": 3
   },
   "pygments_lexer": "ipython3",
   "nbconvert_exporter": "python",
   "file_extension": ".py"
  },
  "kernelspec": {
   "name": "python3",
   "display_name": "Python 3.8.5 64-bit ('venv_default': venv)"
  },
  "interpreter": {
   "hash": "fd0758a73ebd988ebe9ebf034d1cd9f2f8ab90884b3576b81c88c68ea1671a5f"
  }
 },
 "nbformat": 4,
 "nbformat_minor": 2
}